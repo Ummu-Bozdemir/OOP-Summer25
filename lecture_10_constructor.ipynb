{
 "cells": [
  {
   "cell_type": "code",
   "execution_count": 4,
   "id": "9e772012",
   "metadata": {},
   "outputs": [],
   "source": [
    "class Bike:\n",
    "    def __init__(self, color, bike_type):\n",
    "        self.color = color\n",
    "        self.bike_type = bike_type"
   ]
  },
  {
   "cell_type": "code",
   "execution_count": 5,
   "id": "b49a3f4d",
   "metadata": {},
   "outputs": [],
   "source": [
    "bike1 = Bike('red', 'ntb')"
   ]
  },
  {
   "cell_type": "code",
   "execution_count": 6,
   "id": "20d965d3",
   "metadata": {},
   "outputs": [
    {
     "name": "stdout",
     "output_type": "stream",
     "text": [
      "My ntb bike is red\n"
     ]
    }
   ],
   "source": [
    "print('My', bike1.bike_type, 'bike is', bike1.color)"
   ]
  }
 ],
 "metadata": {
  "kernelspec": {
   "display_name": "Python 3",
   "language": "python",
   "name": "python3"
  },
  "language_info": {
   "codemirror_mode": {
    "name": "ipython",
    "version": 3
   },
   "file_extension": ".py",
   "mimetype": "text/x-python",
   "name": "python",
   "nbconvert_exporter": "python",
   "pygments_lexer": "ipython3",
   "version": "3.12.1"
  }
 },
 "nbformat": 4,
 "nbformat_minor": 5
}
