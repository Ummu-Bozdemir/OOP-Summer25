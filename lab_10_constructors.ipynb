{
 "cells": [
  {
   "cell_type": "code",
   "execution_count": 5,
   "id": "c254b7c9",
   "metadata": {},
   "outputs": [],
   "source": [
    "class Animal:\n",
    "    def __init__(self):\n",
    "        print(\"An Animal object has been created!\")\n"
   ]
  },
  {
   "cell_type": "code",
   "execution_count": 6,
   "id": "31ef53d6",
   "metadata": {},
   "outputs": [
    {
     "name": "stdout",
     "output_type": "stream",
     "text": [
      "An Animal object has been created!\n",
      "An Animal object has been created!\n",
      "An Animal object has been created!\n"
     ]
    }
   ],
   "source": [
    "animal1 = Animal()\n",
    "animal2 = Animal()\n",
    "animal3 = Animal()\n"
   ]
  },
  {
   "cell_type": "code",
   "execution_count": 7,
   "id": "a5e53c88",
   "metadata": {},
   "outputs": [],
   "source": [
    "class Car:\n",
    "    def __init__(self, brand, model):\n",
    "        self.brand = brand\n",
    "        self.model = model\n",
    "        print(f\"A Car object has been created: {brand} {model}\")\n"
   ]
  },
  {
   "cell_type": "code",
   "execution_count": 8,
   "id": "13aede3a",
   "metadata": {},
   "outputs": [
    {
     "name": "stdout",
     "output_type": "stream",
     "text": [
      "A Car object has been created: Toyota Corolla\n",
      "A Car object has been created: Honda Civic\n",
      "A Car object has been created: Ford Focus\n"
     ]
    }
   ],
   "source": [
    "c1 = Car(\"Toyota\", \"Corolla\")\n",
    "c2 = Car(\"Honda\", \"Civic\")\n",
    "c3 = Car(\"Ford\", \"Focus\")\n"
   ]
  },
  {
   "cell_type": "markdown",
   "id": "062945d7",
   "metadata": {},
   "source": [
    "## Task for extra point - complex constructor\n"
   ]
  },
  {
   "cell_type": "code",
   "execution_count": 9,
   "id": "f94a7fa8",
   "metadata": {},
   "outputs": [],
   "source": [
    "class House:\n",
    "    def __init__(self, location, floors, furnitures):\n",
    "        self.location = location\n",
    "        self.floors = floors\n",
    "        self.furnitures = furnitures\n",
    "        print(f\"House in {location['city']}, {location['country']} with {floors} floors and furniture: {', '.join(furnitures)}\")\n"
   ]
  },
  {
   "cell_type": "code",
   "execution_count": 10,
   "id": "5df48974",
   "metadata": {},
   "outputs": [
    {
     "name": "stdout",
     "output_type": "stream",
     "text": [
      "House in Warsaw, Poland with 3 floors and furniture: table, chair, bed\n",
      "House in Berlin, Germany with 2 floors and furniture: sofa, lamp\n"
     ]
    }
   ],
   "source": [
    "house1 = House(\n",
    "    location={'country': 'Poland', 'city': 'Warsaw', 'street': 'Main St 123'},\n",
    "    floors=3,\n",
    "    furnitures=['table', 'chair', 'bed']\n",
    ")\n",
    "\n",
    "house2 = House(\n",
    "    location={'country': 'Germany', 'city': 'Berlin', 'street': 'Alexanderplatz 5'},\n",
    "    floors=2,\n",
    "    furnitures=['sofa', 'lamp']\n",
    ")\n"
   ]
  }
 ],
 "metadata": {
  "kernelspec": {
   "display_name": "Python 3",
   "language": "python",
   "name": "python3"
  },
  "language_info": {
   "codemirror_mode": {
    "name": "ipython",
    "version": 3
   },
   "file_extension": ".py",
   "mimetype": "text/x-python",
   "name": "python",
   "nbconvert_exporter": "python",
   "pygments_lexer": "ipython3",
   "version": "3.12.1"
  }
 },
 "nbformat": 4,
 "nbformat_minor": 5
}
