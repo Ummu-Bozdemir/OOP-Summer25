{
 "cells": [
  {
   "cell_type": "code",
   "execution_count": 4,
   "id": "10caf095",
   "metadata": {},
   "outputs": [],
   "source": [
    "class Animal:\n",
    "    def __init__(self):\n",
    "        print(\"An Animal object has been created!\")\n"
   ]
  },
  {
   "cell_type": "code",
   "execution_count": 5,
   "id": "107bb8e7",
   "metadata": {},
   "outputs": [
    {
     "name": "stdout",
     "output_type": "stream",
     "text": [
      "An Animal object has been created!\n",
      "An Animal object has been created!\n",
      "An Animal object has been created!\n"
     ]
    }
   ],
   "source": [
    "animal1 = Animal()\n",
    "aniaml2 = Animal()\n",
    "animal3 = Animal()\n"
   ]
  }
 ],
 "metadata": {
  "kernelspec": {
   "display_name": "Python 3",
   "language": "python",
   "name": "python3"
  },
  "language_info": {
   "codemirror_mode": {
    "name": "ipython",
    "version": 3
   },
   "file_extension": ".py",
   "mimetype": "text/x-python",
   "name": "python",
   "nbconvert_exporter": "python",
   "pygments_lexer": "ipython3",
   "version": "3.12.1"
  }
 },
 "nbformat": 4,
 "nbformat_minor": 5
}
