{
 "cells": [
  {
   "cell_type": "code",
   "execution_count": null,
   "id": "5c7f42b2",
   "metadata": {
    "vscode": {
     "languageId": "plaintext"
    }
   },
   "outputs": [],
   "source": [
    "print('Ummu Bozdemir')"
   ]
  },
  {
   "cell_type": "code",
   "execution_count": null,
   "id": "be9f8db0",
   "metadata": {
    "vscode": {
     "languageId": "plaintext"
    }
   },
   "outputs": [],
   "source": [
    "x = 'Kedi'"
   ]
  },
  {
   "cell_type": "code",
   "execution_count": null,
   "id": "02004a97",
   "metadata": {
    "vscode": {
     "languageId": "plaintext"
    }
   },
   "outputs": [],
   "source": [
    "coutries = ['Turkiye','Poland','Japan,'Brazil']"
   ]
  },
  {
   "cell_type": "code",
   "execution_count": null,
   "id": "e97d5654",
   "metadata": {
    "vscode": {
     "languageId": "plaintext"
    }
   },
   "outputs": [],
   "source": [
    "student1 = {\n",
    "    'name': 'Ummu',\n",
    "    'Index_number': '35449'\n",
    "}"
   ]
  },
  {
   "cell_type": "code",
   "execution_count": null,
   "metadata": {
    "vscode": {
     "languageId": "plaintext"
    }
   },
   "outputs": [],
   "source": [
    "class Student:\n",
    "    def __init__(self, name, index_number):\n",
    "        self.name = name\n",
    "        self,index_number = index_number"
   ]
  },
  {
   "cell_type": "code",
   "execution_count": null,
   "id": "41fb6bb7",
   "metadata": {
    "vscode": {
     "languageId": "plaintext"
    }
   },
   "outputs": [],
   "source": []
  }
 ],
 "metadata": {
  "language_info": {
   "name": "python"
  }
 },
 "nbformat": 4,
 "nbformat_minor": 5
}
